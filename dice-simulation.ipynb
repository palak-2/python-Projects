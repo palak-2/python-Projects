{
 "cells": [
  {
   "cell_type": "code",
   "execution_count": 19,
   "metadata": {},
   "outputs": [
    {
     "name": "stdout",
     "output_type": "stream",
     "text": [
      "6\n"
     ]
    }
   ],
   "source": [
    "import random\n",
    "turn=True\n",
    "def roll(max):\n",
    "    while turn:\n",
    "        print(random.randint(1,max))\n",
    "        again=input(\"want to roll again: (y/n) \" )\n",
    "        if again.lower()==\"y\":\n",
    "             continue\n",
    "        else:\n",
    "            break\n",
    "\n",
    "max=int(input(\"enter max size of dice\"))\n",
    "roll(max)\n",
    "    "
   ]
  }
 ],
 "metadata": {
  "interpreter": {
   "hash": "ef0417f81d8d21bcb580af638956863833b7f886fae9b5a1fcbff974ae27651e"
  },
  "kernelspec": {
   "display_name": "Python 3.8.5 ('base')",
   "language": "python",
   "name": "python3"
  },
  "language_info": {
   "name": "python",
   "version": "3.8.5"
  },
  "orig_nbformat": 4
 },
 "nbformat": 4,
 "nbformat_minor": 2
}
