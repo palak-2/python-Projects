{
 "cells": [
  {
   "cell_type": "code",
   "execution_count": 18,
   "metadata": {},
   "outputs": [
    {
     "name": "stdout",
     "output_type": "stream",
     "text": [
      "For winning the game, you have to win atleast 1 rounds\n",
      "you have choosen p and computer is choosen s. Uff! you loss try again\n",
      "you and computer have both choosen r. It's a tie\n",
      "you and computer have both choosen r. It's a tie\n",
      "you have choosen p and computer is choosen r. Hurry! you win\n",
      "Enter valid choice\n",
      "Enter valid choice\n",
      "you have choosen p and computer is choosen s. Uff! you loss try again\n",
      "\n",
      " UFF! you loss, Try again\n"
     ]
    }
   ],
   "source": [
    "import random\n",
    "import math\n",
    "def game():\n",
    "    player=input(\"choose Rock 'r', paper 'p', scissor 's'...............:\\n\")\n",
    "    computer=random.choice(['r','p','s'])\n",
    "    if(player.lower()==computer):\n",
    "        print(\"you and computer have both choosen {}. It's a tie\".format(computer))\n",
    "        return 0\n",
    "    elif(player.lower()=='r' and computer=='s') or (player.lower()=='s' and computer=='p') or (player.lower()=='p' and computer=='r'):\n",
    "        print(\"you have choosen {} and computer is choosen {}. Hurry! you win\".format(player.lower(),computer))\n",
    "        return 1\n",
    "    elif(player.lower()=='r' and computer=='p') or (player.lower()=='s' and computer=='r') or (player.lower()=='p' and computer=='s'):\n",
    "        print(\"you have choosen {} and computer is choosen {}. Uff! you loss try again\".format(player.lower(),computer))\n",
    "        return -1\n",
    "    else:\n",
    "        print(\"Enter valid choice\")\n",
    "        return -2\n",
    "if __name__=='__main__':\n",
    "    n=int(input(\"number of rounds\"))\n",
    "    print(\"For winning the game, you have to win atleast %d rounds\" % math.ceil(n/2))\n",
    "    player_points=0\n",
    "    computer_points=0\n",
    "    while(player_points<=math.ceil(n/2) and computer_points<=math.ceil(n/2)):\n",
    "        k=game()\n",
    "        if k==1:\n",
    "            player_points+=1\n",
    "        if k==-1:\n",
    "            computer_points+=1\n",
    "    if(computer_points<player_points):\n",
    "        print(\"\\n Hurray! you win the game\")\n",
    "    if(computer_points>player_points):\n",
    "        print(\"\\n UFF! you loss, Try again\")\n",
    "    if(computer_points==player_points):\n",
    "        print(\"\\n There is a tie\")\n",
    "        \n"
   ]
  }
 ],
 "metadata": {
  "kernelspec": {
   "display_name": "Python 3.8.5 ('base')",
   "language": "python",
   "name": "python3"
  },
  "language_info": {
   "codemirror_mode": {
    "name": "ipython",
    "version": 3
   },
   "file_extension": ".py",
   "mimetype": "text/x-python",
   "name": "python",
   "nbconvert_exporter": "python",
   "pygments_lexer": "ipython3",
   "version": "3.8.5"
  },
  "orig_nbformat": 4,
  "vscode": {
   "interpreter": {
    "hash": "07f117a4e5d7c3f0056d3f4e32fc24c8de45b6279b0473dae73adc5f98fa1e44"
   }
  }
 },
 "nbformat": 4,
 "nbformat_minor": 2
}
